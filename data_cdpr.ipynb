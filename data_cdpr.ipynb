{
 "cells": [
  {
   "cell_type": "code",
   "execution_count": 5,
   "id": "1f3d64dc-ae25-4791-b2e5-1cdf831d7255",
   "metadata": {},
   "outputs": [],
   "source": [
    "import numpy as np\n",
    "import plotly.graph_objects as go\n",
    "import plotly.colors as pc\n",
    "from ipywidgets import interactive, FloatSlider\n",
    "\n",
    "# Define anchor points\n",
    "A1 = np.array([0, 2])  # Changed to (0, 2)\n",
    "A2 = np.array([3, 2])  # Changed to (3, 2)"
   ]
  },
  {
   "cell_type": "code",
   "execution_count": null,
   "id": "92e38334-bf3c-443a-8b8c-cb01b2e12b0d",
   "metadata": {},
   "outputs": [],
   "source": [
    "# writing function to solve for the co-ordinates\n",
    "def calculate_xy(T1, T2) :\n",
    "    # defining / creating tensions matrix \n",
    "    T1 = np.array([T1, 0]);\n",
    "    T2 = np.array([0, T2]);\n",
    "    T = np.column_stack((T1,T2))\n",
    "    print(f\"T = {T}\")\n",
    "    \n",
    "    # Check for singular matrix\n",
    "    if np.abs(np.linalg.det(T)) < 1e-6:\n",
    "        return np.nan, np.nan\n",
    "        \n",
    "    # Define the force vector (assuming mass = 1 kg)\n",
    "    F = np.array([0, -9.81])  # Gravity force\n",
    "    \n",
    "    # Solve for A\n",
    "    try:\n",
    "        A = np.linalg.solve(T, F)\n",
    "        return A[0], A[1]\n",
    "    except np.linalg.LinAlgError:\n",
    "        return np.nan, np.nan\n",
    "\n",
    "\n"
   ]
  },
  {
   "cell_type": "code",
   "execution_count": 14,
   "id": "2a89b41a-24b4-45e1-b492-57258e1794c7",
   "metadata": {},
   "outputs": [
    {
     "data": {
      "text/plain": [
       "array([[30.5 ,  0.  ],\n",
       "       [ 0.  , 30.75]])"
      ]
     },
     "execution_count": 14,
     "metadata": {},
     "output_type": "execute_result"
    }
   ],
   "source": [
    "T1 , T2 = 30.5 , 30.75\n",
    "\n",
    "T1 = np.array([T1, 0]);\n",
    "T2 = np.array([0, T2]);\n",
    "T = np.column_stack((T1,T2))\n",
    "\n",
    "T"
   ]
  },
  {
   "cell_type": "code",
   "execution_count": 29,
   "id": "6d92bc37-d0c0-4c83-b375-b4b5633fbd23",
   "metadata": {},
   "outputs": [
    {
     "data": {
      "text/plain": [
       "array([ 0.        , -0.31902439])"
      ]
     },
     "execution_count": 29,
     "metadata": {},
     "output_type": "execute_result"
    }
   ],
   "source": [
    "\n",
    "    \n",
    "# Define the force vector (assuming mass = 1 kg)\n",
    "F = np.array([0, -9.81])  # Gravity force\n",
    "\n",
    "\n",
    "A = np.linalg.solve(T, F)\n",
    "\n",
    "A"
   ]
  },
  {
   "cell_type": "markdown",
   "id": "4c19728e-d752-4f2e-b8da-b15d6e754757",
   "metadata": {},
   "source": [
    "# given the tension values, it is calculating the co-ordinates "
   ]
  },
  {
   "cell_type": "code",
   "execution_count": 87,
   "id": "20f52026-85e5-400f-80a7-177dd0fd4da0",
   "metadata": {},
   "outputs": [
    {
     "name": "stdin",
     "output_type": "stream",
     "text": [
      "Enter the tension T1 (N):  18.5\n",
      "Enter the tension T2 (N):  40.5\n"
     ]
    },
    {
     "name": "stdout",
     "output_type": "stream",
     "text": [
      "The calculated coordinates of the end effector are: X = 2.9999 m, Y = 2.0000 m.\n"
     ]
    }
   ],
   "source": [
    "import numpy as np\n",
    "\n",
    "# Define anchor points based on your system setup\n",
    "A1 = np.array([0, 2])  # Anchor point 1 (x1, y1)\n",
    "A2 = np.array([3, 2])  # Anchor point 2 (x2, y2)\n",
    "\n",
    "# Function to calculate the coordinates of the end effector given tensions T1 and T2\n",
    "def calculate_coordinates(T1, T2):\n",
    "    # Define the gravitational force vector (assume 1 kg mass)\n",
    "    F = np.array([0, -9.81])\n",
    "    \n",
    "    # Calculate unit vectors pointing from the end effector towards each anchor\n",
    "    def unit_vector(anchor, end_effector):\n",
    "        vector = anchor - end_effector\n",
    "        return vector / np.linalg.norm(vector)\n",
    "\n",
    "    # Initial guess for the coordinates\n",
    "    x_guess = 1.5  # Midpoint x between anchors as starting point\n",
    "    y_guess = 1.0  # Midpoint y between anchors and ground as starting point\n",
    "    \n",
    "    # Numerical solver: iterate to adjust (x, y) to match given tensions\n",
    "    def calculate_residuals(coords):\n",
    "        x, y = coords\n",
    "        end_effector = np.array([x, y])\n",
    "\n",
    "        # Calculate unit vectors based on current guess\n",
    "        u1 = unit_vector(A1, end_effector)\n",
    "        u2 = unit_vector(A2, end_effector)\n",
    "\n",
    "        # Formulate the equilibrium equations\n",
    "        T1_vector = T1 * u1\n",
    "        T2_vector = T2 * u2\n",
    "\n",
    "        # Sum of tensions should counterbalance gravity\n",
    "        force_balance = T1_vector + T2_vector + F\n",
    "\n",
    "        return np.linalg.norm(force_balance)  # Residuals: magnitude should be near zero if correct\n",
    "\n",
    "    # Use an optimization method to solve the problem\n",
    "    from scipy.optimize import minimize\n",
    "\n",
    "    # Initial guess for the solver\n",
    "    initial_guess = [x_guess, y_guess]\n",
    "    result = minimize(calculate_residuals, initial_guess, method='Nelder-Mead')\n",
    "\n",
    "    # Check optimization success and return coordinates\n",
    "    if result.success:\n",
    "        x, y = result.x\n",
    "        return x, y\n",
    "    else:\n",
    "        print(\"Error: Unable to determine coordinates with given tensions.\")\n",
    "        return np.nan, np.nan\n",
    "\n",
    "# Input tensions\n",
    "T1_input = float(input(\"Enter the tension T1 (N): \"))\n",
    "T2_input = float(input(\"Enter the tension T2 (N): \"))\n",
    "\n",
    "# Calculate coordinates\n",
    "x_coord, y_coord = calculate_coordinates(T1_input, T2_input)\n",
    "\n",
    "# Display the results\n",
    "print(f\"The calculated coordinates of the end effector are: X = {x_coord:.4f} m, Y = {y_coord:.4f} m.\")\n"
   ]
  },
  {
   "cell_type": "markdown",
   "id": "aa17e0cf-9e17-41f6-8a7d-86f9b8fcfd44",
   "metadata": {},
   "source": [
    "# using kinematics , real valued things "
   ]
  },
  {
   "cell_type": "code",
   "execution_count": 84,
   "id": "4b5d3821-4af3-4d6c-824d-ae67d7331a6e",
   "metadata": {},
   "outputs": [
    {
     "name": "stdout",
     "output_type": "stream",
     "text": [
      "     T1    T2    X        Y\n",
      "0  18.5  40.5  0.0  0.00007\n"
     ]
    }
   ],
   "source": [
    "import math\n",
    "import pandas as pd\n",
    "\n",
    "# System parameters\n",
    "r = 0.005  # Radius of shaft in meters\n",
    "d = 0.01  # Diameter of shaft in meters\n",
    "L_shaft = 0.06  # Length of shaft in meters\n",
    "L_wire = 2.5654  # Length of wire in meters\n",
    "G = 1.28e9  # Shear modulus of PLA in Pa\n",
    "\n",
    "# Calculate J (polar moment of inertia)\n",
    "J = (math.pi * d**4) / 32\n",
    "\n",
    "def calculate_coordinates(T1, T2, alpha1, alpha2):\n",
    "    # Calculate change in length for each wire\n",
    "    def delta_l(T):\n",
    "        torque = T * r\n",
    "        theta = (torque * L_shaft) / (J * G)\n",
    "        return r * theta\n",
    "\n",
    "    dl1 = delta_l(T1)\n",
    "    dl2 = delta_l(T2)\n",
    "\n",
    "    # Calculate new angles\n",
    "    def new_angle(alpha, dl):\n",
    "        return math.acos((L_wire * math.cos(alpha)) / (L_wire + dl))\n",
    "\n",
    "    beta1 = new_angle(alpha1, dl1)\n",
    "    beta2 = new_angle(alpha2, dl2)\n",
    "\n",
    "    # Calculate position changes\n",
    "    def delta_position(alpha, beta, dl):\n",
    "        dx = (L_wire + dl) * math.cos(beta) - L_wire * math.cos(alpha)\n",
    "        dy = (L_wire + dl) * math.sin(beta) - L_wire * math.sin(alpha)\n",
    "        return dx, dy\n",
    "\n",
    "    dx1, dy1 = delta_position(alpha1, beta1, dl1)\n",
    "    dx2, dy2 = delta_position(alpha2, beta2, dl2)\n",
    "\n",
    "    # Combine the effects of both wires\n",
    "    # Assuming the wires are symmetrically placed\n",
    "    x = (dx1 - dx2) / 2\n",
    "    y = (dy1 + dy2) / 2\n",
    "\n",
    "    return x, y\n",
    "\n",
    "def process_tension_pairs(tension_pairs):\n",
    "    results = []\n",
    "    alpha1 = math.radians(30)  # 30 degrees from horizontal\n",
    "    alpha2 = math.radians(150)  # 150 degrees from horizontal\n",
    "\n",
    "    for T1, T2 in tension_pairs:\n",
    "        x, y = calculate_coordinates(T1, T2, alpha1, alpha2)\n",
    "        results.append({'T1': T1, 'T2': T2, 'X': x, 'Y': y})\n",
    "    \n",
    "    return pd.DataFrame(results)\n",
    "\n",
    "# Example usage:\n",
    "tension_pairs = [\n",
    "    (18.5, 40.5),\n",
    "    # Add more pairs as needed\n",
    "]\n",
    "\n",
    "result_df = process_tension_pairs(tension_pairs)\n",
    "print(result_df)\n",
    "\n",
    "# To save results to a CSV file:\n",
    "# result_df.to_csv('tension_coordinates_results.csv', index=False)"
   ]
  },
  {
   "cell_type": "markdown",
   "id": "d7f30899-16ef-470d-bcb1-4a4eca066349",
   "metadata": {},
   "source": [
    "# TRY"
   ]
  },
  {
   "cell_type": "code",
   "execution_count": null,
   "id": "83e48d69-14cf-4232-94c1-43e96c9a9a7f",
   "metadata": {},
   "outputs": [],
   "source": []
  }
 ],
 "metadata": {
  "kernelspec": {
   "display_name": "Python 3 (ipykernel)",
   "language": "python",
   "name": "python3"
  },
  "language_info": {
   "codemirror_mode": {
    "name": "ipython",
    "version": 3
   },
   "file_extension": ".py",
   "mimetype": "text/x-python",
   "name": "python",
   "nbconvert_exporter": "python",
   "pygments_lexer": "ipython3",
   "version": "3.12.4"
  }
 },
 "nbformat": 4,
 "nbformat_minor": 5
}
