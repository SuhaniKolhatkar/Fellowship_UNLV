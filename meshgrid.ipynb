{
 "cells": [
  {
   "cell_type": "code",
   "execution_count": 131,
   "id": "20ef231f-8b5e-47b4-9939-33426dd866ce",
   "metadata": {},
   "outputs": [],
   "source": [
    "import numpy as np\n",
    "import matplotlib.pyplot as plt "
   ]
  },
  {
   "cell_type": "code",
   "execution_count": 179,
   "id": "991895f3-ddfc-4927-896c-8e7da6dfff4b",
   "metadata": {},
   "outputs": [],
   "source": [
    "x = [1, 2, 3]\n",
    "y = [1, 2, 3]"
   ]
  },
  {
   "cell_type": "code",
   "execution_count": 181,
   "id": "17443c1e-90c3-413d-a866-527dc30f04d1",
   "metadata": {},
   "outputs": [],
   "source": [
    "X,Y = np.meshgrid(x,y)"
   ]
  },
  {
   "cell_type": "code",
   "execution_count": 183,
   "id": "66a7f3cc-913c-4adc-82bd-bbbd9fb652c1",
   "metadata": {},
   "outputs": [
    {
     "data": {
      "text/plain": [
       "array([[1, 2, 3],\n",
       "       [1, 2, 3],\n",
       "       [1, 2, 3]])"
      ]
     },
     "execution_count": 183,
     "metadata": {},
     "output_type": "execute_result"
    }
   ],
   "source": [
    "X"
   ]
  },
  {
   "cell_type": "code",
   "execution_count": 185,
   "id": "b3898a92-778d-4099-9bb9-445efaf648fc",
   "metadata": {},
   "outputs": [
    {
     "data": {
      "text/plain": [
       "array([[1, 1, 1],\n",
       "       [2, 2, 2],\n",
       "       [3, 3, 3]])"
      ]
     },
     "execution_count": 185,
     "metadata": {},
     "output_type": "execute_result"
    }
   ],
   "source": [
    "Y"
   ]
  },
  {
   "cell_type": "code",
   "execution_count": 187,
   "id": "de304a7c-dfb6-490a-b074-c75973f19584",
   "metadata": {},
   "outputs": [],
   "source": [
    "Z = X+Y"
   ]
  },
  {
   "cell_type": "code",
   "execution_count": 189,
   "id": "edbee685-5724-4f9f-9243-ae377f3e8cf2",
   "metadata": {},
   "outputs": [
    {
     "data": {
      "text/plain": [
       "array([[2, 3, 4],\n",
       "       [3, 4, 5],\n",
       "       [4, 5, 6]])"
      ]
     },
     "execution_count": 189,
     "metadata": {},
     "output_type": "execute_result"
    }
   ],
   "source": [
    "Z"
   ]
  },
  {
   "cell_type": "code",
   "execution_count": 192,
   "id": "bc7d5dff-12e2-4ed7-8f56-a2ad896841cd",
   "metadata": {},
   "outputs": [
    {
     "data": {
      "image/png": "[encoded data removed]",
      "text/plain": [
       "<Figure size 640x480 with 2 Axes>"
      ]
     },
     "metadata": {},
     "output_type": "display_data"
    }
   ],
   "source": [
    "fig=plt.figure()\n",
    "plt.contourf(X,Y,Z,cmap='plasma')\n",
    "plt.axis('scaled')\n",
    "plt.colorbar()\n",
    "plt.savefig('contour1.png')\n",
    "plt.show()"
   ]
  },
  {
   "cell_type": "code",
   "execution_count": 198,
   "id": "2dc68943-bb30-4265-a35d-15e28ff4471d",
   "metadata": {},
   "outputs": [
    {
     "name": "stdout",
     "output_type": "stream",
     "text": [
      "[0 1 2 0 4 0]\n"
     ]
    }
   ],
   "source": [
    "import numpy as np\n",
    "\n",
    "# Example array\n",
    "arr = np.array([0, 1, 2, 0, 4, 0])\n",
    "\n",
    "# Replace zeros with 0.000001\n",
    "arr[arr == 0] = 0.000001\n",
    "\n",
    "# Print the modified array\n",
    "print(arr)\n"
   ]
  },
  {
   "cell_type": "code",
   "execution_count": 200,
   "id": "c83e2b84-0645-44c0-9dc3-069959f30a6e",
   "metadata": {},
   "outputs": [
    {
     "name": "stdout",
     "output_type": "stream",
     "text": [
      "[1 0 2 0 3 4 0 5]\n"
     ]
    }
   ],
   "source": [
    "import numpy as np\n",
    "\n",
    "# Create a sample NumPy array\n",
    "arr = np.array([1, 0, 2, 0, 3, 4, 0, 5])\n",
    "\n",
    "# Replace zeros with 0.000001\n",
    "arr[arr == 0] = 0.000001\n",
    "\n",
    "print(arr)"
   ]
  },
  {
   "cell_type": "code",
   "execution_count": 202,
   "id": "2a23d225-a33d-4049-8da9-5c18de0deebb",
   "metadata": {},
   "outputs": [
    {
     "name": "stdout",
     "output_type": "stream",
     "text": [
      "[1.e+00 1.e-06 2.e+00 1.e-06 3.e+00 4.e+00 1.e-06 5.e+00]\n"
     ]
    }
   ],
   "source": [
    "import numpy as np\n",
    "\n",
    "# Create a sample NumPy array\n",
    "arr = np.array([1, 0, 2, 0, 3, 4, 0, 5])\n",
    "\n",
    "# Replace zeros with 0.000001\n",
    "arr = np.where(arr == 0, 0.000001, arr)\n",
    "\n",
    "print(arr)"
   ]
  },
  {
   "cell_type": "code",
   "execution_count": 210,
   "id": "cee8c94f-adb5-48ee-88c3-7aca1bba0331",
   "metadata": {},
   "outputs": [],
   "source": [
    "import pandas as pd\n",
    "z = np.linspace(0,600,600)\n",
    "Z = pd.DataFrame(z)"
   ]
  },
  {
   "cell_type": "code",
   "execution_count": null,
   "id": "243ee333-aa39-472d-90b6-a52d0f25d0a4",
   "metadata": {},
   "outputs": [],
   "source": []
  }
 ],
 "metadata": {
  "kernelspec": {
   "display_name": "Python 3 (ipykernel)",
   "language": "python",
   "name": "python3"
  },
  "language_info": {
   "codemirror_mode": {
    "name": "ipython",
    "version": 3
   },
   "file_extension": ".py",
   "mimetype": "text/x-python",
   "name": "python",
   "nbconvert_exporter": "python",
   "pygments_lexer": "ipython3",
   "version": "3.12.4"
  }
 },
 "nbformat": 4,
 "nbformat_minor": 5
}
